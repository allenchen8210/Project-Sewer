{
  "cells": [
    {
      "cell_type": "code",
      "source": [
        "import pandas as pd\n",
        "from PIL import ImageGrab, Image\n",
        "import win32com.client as win32\n",
        "import matplotlib\n",
        "matplotlib.rcParams['font.sans-serif'] = ['Microsoft JhengHei', 'sans-serif']\n",
        "import matplotlib.pyplot as plt\n",
        "import os\n"
      ],
      "outputs": [],
      "execution_count": null,
      "metadata": {
        "collapsed": false,
        "outputHidden": false,
        "inputHidden": false
      }
    },
    {
      "cell_type": "code",
      "source": [
        "ABS_ROOT = os.path.abspath('')\n",
        "DATA_FOLDER = \"data/\"\n",
        "SUMMARY_SOURCE = \"103年台南市污水下水道管線更新工程_B表.xls\"\n"
      ],
      "outputs": [],
      "execution_count": null,
      "metadata": {
        "collapsed": false,
        "outputHidden": false,
        "inputHidden": false
      }
    },
    {
      "cell_type": "code",
      "source": [
        "summary = pd.read_excel(DATA_FOLDER+SUMMARY_SOURCE, sheet_name=\"TV檢視-異常統計表\", header=[4, 5])\n",
        "summary[\"編號\"] = summary[\"編號\"].fillna(method=\"ffill\").astype(\"int32\")\n"
      ],
      "outputs": [],
      "execution_count": null,
      "metadata": {
        "collapsed": false,
        "outputHidden": false,
        "inputHidden": false
      }
    },
    {
      "cell_type": "code",
      "source": [
        "summary.head(1)\n"
      ],
      "outputs": [],
      "execution_count": null,
      "metadata": {
        "collapsed": false,
        "outputHidden": false,
        "inputHidden": false
      }
    },
    {
      "cell_type": "code",
      "source": [
        "plt.figure(figsize=(15, 10), dpi=200)\n",
        "plt.subplot(311)\n",
        "summary[('管材', 'Unnamed: 9_level_1')].value_counts().plot(kind='bar')\n",
        "plt.title('管材')\n",
        "\n",
        "plt.subplot(312)\n",
        "summary[('異常', '方位')].value_counts().plot(kind='bar')\n",
        "plt.title('異常方位')\n",
        "\n",
        "plt.subplot(313)\n",
        "summary[('異常狀況', '說 明')].value_counts().plot(kind='bar')\n",
        "plt.title('異常狀況')\n"
      ],
      "outputs": [],
      "execution_count": null,
      "metadata": {
        "collapsed": false,
        "outputHidden": false,
        "inputHidden": false
      }
    },
    {
      "cell_type": "code",
      "source": [
        "summary = summary.groupby(('編號', 'Unnamed: 0_level_1'))\n"
      ],
      "outputs": [],
      "execution_count": null,
      "metadata": {
        "collapsed": false,
        "outputHidden": false,
        "inputHidden": false
      }
    },
    {
      "cell_type": "code",
      "source": [
        "excel = win32.gencache.EnsureDispatch('Excel.Application')\n",
        "excel.Visible = False\n",
        "\n",
        "for i in range(4, 7):\n",
        "    # Obtain file name\n",
        "    group = summary.get_group(i)\n",
        "    pos_start = group.iloc[0][('起始', '人孔')]\n",
        "    k = group.iloc[0][('管段編號', '上游人孔')]\n",
        "    pos_end = k if k != pos_start else group.iloc[0][('管段編號', '下游人孔')]\n",
        "    file = str(i).zfill(2) + \"({}-{}).xls\".format(pos_start, pos_end)\n",
        "\n",
        "    # Extract image\n",
        "    workbook = excel.Workbooks.Open(os.path.join(ABS_ROOT, DATA_FOLDER, file))\n",
        "\n",
        "    index = 0\n",
        "    for sheet in workbook.Worksheets:\n",
        "        for i, shape in enumerate(sheet.Shapes):\n",
        "            if shape.Name.startswith('Picture'):\n",
        "                shape.Copy()\n",
        "                image = ImageGrab.grabclipboard()\n",
        "                image = image.resize((350, 250),Image.ANTIALIAS)\n",
        "                plt.figure()\n",
        "                plt.imshow(image)\n",
        "                plt.title('{}-{}-{}.jpg'.format(\n",
        "                    file.strip('.xls'),\n",
        "                    group.iloc[index][('異常', '起點')],\n",
        "                    group.iloc[index][('異常狀況', '說 明')]\n",
        "                ))\n",
        "                index = index + 1\n",
        "                #image.save('{}.jpg'.format(i+1), 'jpeg')\n",
        "\n",
        "    workbook.Close()\n",
        "\n",
        "excel.Application.Quit()"
      ],
      "outputs": [],
      "execution_count": null,
      "metadata": {
        "collapsed": false,
        "outputHidden": false,
        "inputHidden": false
      }
    }
  ],
  "metadata": {
    "kernelspec": {
      "argv": [
        "C:\\Users\\yanje\\AppData\\Local\\Programs\\Python\\Python36\\python.exe",
        "-m",
        "ipykernel_launcher",
        "-f",
        "{connection_file}"
      ],
      "display_name": "Python 3",
      "language": "python",
      "name": "python3"
    }
  },
  "nbformat": 4,
  "nbformat_minor": 0
}